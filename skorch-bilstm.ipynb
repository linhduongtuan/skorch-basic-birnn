{
 "cells": [
  {
   "cell_type": "code",
   "execution_count": 14,
   "metadata": {},
   "outputs": [
    {
     "name": "stdout",
     "output_type": "stream",
     "text": [
      "The blackcellmagic extension is already loaded. To reload it, use:\n",
      "  %reload_ext blackcellmagic\n"
     ]
    }
   ],
   "source": [
    "%load_ext blackcellmagic"
   ]
  },
  {
   "cell_type": "code",
   "execution_count": 669,
   "metadata": {},
   "outputs": [],
   "source": [
    "import torch\n",
    "from torch import nn, autograd\n",
    "from torch.nn import functional as F\n",
    "from skorch import NeuralNetClassifier\n",
    "from skorch.helper import predefined_split\n",
    "from skorch.callbacks import EarlyStopping\n",
    "\n",
    "from nltk import casual_tokenize\n",
    "\n",
    "from sklearn.metrics import recall_score, precision_score\n",
    "\n",
    "import pandas as pd\n",
    "import numpy as np\n",
    "\n",
    "import csv\n"
   ]
  },
  {
   "cell_type": "code",
   "execution_count": 1038,
   "metadata": {},
   "outputs": [],
   "source": [
    "TRAIN_SPLIT = 2\n",
    "MSG_LEN = 20\n",
    "EMBED_DIM = 300\n",
    "HIDDEN_DIM = 100\n",
    "NUM_LAYERS = 2\n",
    "VOCAB_SIZE = 100000\n",
    "OOV_IDX = 0\n",
    "EOS_IDX = 1"
   ]
  },
  {
   "cell_type": "code",
   "execution_count": 1042,
   "metadata": {},
   "outputs": [],
   "source": [
    "def load_wvs(embeddings_path: str, embedding_dim: int, limit=None):\n",
    "    if limit is not None:\n",
    "        limit = int(limit)\n",
    "    with open(embeddings_path) as infile:\n",
    "        if next(infile).split(\" \") == embeddings_path:\n",
    "            # Skip header for fasttext, don't for glove\n",
    "            infile.seek(0)\n",
    "        return pd.read_csv(\n",
    "            infile,\n",
    "            header=None,\n",
    "            delim_whitespace=True,\n",
    "            names=list(range(embedding_dim)),\n",
    "            quoting=csv.QUOTE_NONE,\n",
    "            nrows=limit,\n",
    "            index_col=0,\n",
    "        )\n",
    "\n",
    "\n",
    "all_embeds = load_wvs(\"embeddings.txt\", EMBED_DIM, VOCAB_SIZE)\n",
    "raw_embeds = np.vstack([np.zeros(EMBED_DIM), all_embeds.values])"
   ]
  },
  {
   "cell_type": "code",
   "execution_count": 948,
   "metadata": {},
   "outputs": [],
   "source": [
    "token_idxs = {tok: idx + 1 for idx, tok in enumerate(all_embeds.index.values.tolist())}"
   ]
  },
  {
   "cell_type": "code",
   "execution_count": 949,
   "metadata": {},
   "outputs": [],
   "source": [
    "def vectorize(text):\n",
    "    idxs = [token_idxs.get(tok, OOV_IDX) for tok in text.split(' ')[:MSG_LEN]]\n",
    "    return np.array(idxs + [EOS_IDX] * (MSG_LEN - len(idxs)))"
   ]
  },
  {
   "cell_type": "code",
   "execution_count": 950,
   "metadata": {},
   "outputs": [],
   "source": [
    "def make_dataset(topic_num: int):\n",
    "    df = pd.read_csv(\"data/{}.csv\".format(topic_num))\n",
    "    presents = df[df[\"present\"] == 1]\n",
    "    missings = df[df[\"present\"] == 0]\n",
    "    train = pd.concat(\n",
    "        [\n",
    "            presents.iloc[: int(presents.shape[0] // TRAIN_SPLIT)],\n",
    "            missings.iloc[: int(missings.shape[0] // TRAIN_SPLIT)],\n",
    "        ],\n",
    "        axis=\"rows\",\n",
    "    )\n",
    "    validation = pd.concat(\n",
    "        [\n",
    "            presents.iloc[int(presents.shape[0] // TRAIN_SPLIT) :],\n",
    "            missings.iloc[int(missings.shape[0] // TRAIN_SPLIT) :],\n",
    "        ],\n",
    "        axis=\"rows\",\n",
    "    )\n",
    "    return train, validation\n",
    "\n",
    "\n",
    "def make_x_and_y(dataset):\n",
    "    x = [vectorize(text) for text in dataset['text'].values.tolist()]\n",
    "    y = dataset['present'].values\n",
    "    return torch.LongTensor(np.vstack(x).astype(np.int64)), \\\n",
    "        torch.LongTensor(y.astype(np.int64))\n"
   ]
  },
  {
   "cell_type": "code",
   "execution_count": 951,
   "metadata": {},
   "outputs": [],
   "source": [
    "training, validation = make_dataset(36)"
   ]
  },
  {
   "cell_type": "code",
   "execution_count": 952,
   "metadata": {},
   "outputs": [],
   "source": [
    "training_x, training_y = make_x_and_y(training)\n",
    "validation_x, validation_y = make_x_and_y(validation)"
   ]
  },
  {
   "cell_type": "code",
   "execution_count": 953,
   "metadata": {},
   "outputs": [
    {
     "data": {
      "text/plain": [
       "(torch.Size([65, 20]), torch.Size([65]))"
      ]
     },
     "execution_count": 953,
     "metadata": {},
     "output_type": "execute_result"
    }
   ],
   "source": [
    "training_x.shape, training_y.shape"
   ]
  },
  {
   "cell_type": "code",
   "execution_count": 954,
   "metadata": {},
   "outputs": [],
   "source": [
    "from skorch.dataset import Dataset"
   ]
  },
  {
   "cell_type": "code",
   "execution_count": 955,
   "metadata": {},
   "outputs": [],
   "source": [
    "def prf1(predictions, true):\n",
    "    p = precision_score(predictions, true)\n",
    "    r = recall_score(predictions, true)\n",
    "    f1 = 2 * p * r / (p + r)\n",
    "    return p, r, f1"
   ]
  },
  {
   "cell_type": "code",
   "execution_count": 1085,
   "metadata": {},
   "outputs": [],
   "source": [
    "class Classifier(nn.Module):\n",
    "    def __init__(self, num_units=10, nonlin=F.relu):\n",
    "        super().__init__()\n",
    "        self.word_embeddings = nn.Embedding(VOCAB_SIZE + 1, embedding_dim=EMBED_DIM)\n",
    "        self.word_embeddings.weight = nn.Parameter(torch.FloatTensor(raw_embeds))\n",
    "        self.word_embeddings.weight.requires_grad = False\n",
    "        self.lstm = nn.GRU(\n",
    "            EMBED_DIM,\n",
    "            HIDDEN_DIM,\n",
    "            num_layers=NUM_LAYERS,\n",
    "            dropout=0.2,\n",
    "            batch_first=True,\n",
    "            bidirectional=True,\n",
    "        )\n",
    "        self.softmax = nn.Linear(HIDDEN_DIM * 4, 2)\n",
    "        self.dropout = nn.Dropout2d(0.1)\n",
    "        self.hidden = self.init_hidden()\n",
    "    \n",
    "        print(sum(param.nelement() for param in self.lstm.parameters()))\n",
    "            \n",
    "\n",
    "    def forward(self, doc):\n",
    "        embeds = self.word_embeddings(doc)\n",
    "        if self.training:\n",
    "            embeds = self.dropout(embeds.permute(0, 2, 1)).permute(0, 2, 1)\n",
    "        lstm_out, self.hidden = self.lstm(embeds)\n",
    "        tag_space = self.softmax(\n",
    "            torch.cat(\n",
    "                [\n",
    "                    torch.max(self.dropout(lstm_out), 1)[0],\n",
    "                    torch.mean(self.dropout(lstm_out), 1),\n",
    "                ],\n",
    "                1,\n",
    "            )\n",
    "        )\n",
    "        tag_scores = F.softmax(tag_space, dim=-1)\n",
    "        return tag_scores\n",
    "\n",
    "    def init_hidden(self):\n",
    "        return (\n",
    "            autograd.Variable(torch.zeros(2, 1, HIDDEN_DIM)),\n",
    "            autograd.Variable(torch.zeros(2, 1, HIDDEN_DIM)),\n",
    "        )\n",
    "\n",
    "\n",
    "net = NeuralNetClassifier(\n",
    "    Classifier,\n",
    "    batch_size=32,\n",
    "    max_epochs=100,\n",
    "    lr=0.2,\n",
    "    train_split=predefined_split(Dataset(validation_x, validation_y)),\n",
    "    callbacks=[EarlyStopping(patience=5, monitor='valid_loss')],\n",
    "    device='cpu',\n",
    ")\n"
   ]
  },
  {
   "cell_type": "code",
   "execution_count": 1086,
   "metadata": {},
   "outputs": [
    {
     "name": "stdout",
     "output_type": "stream",
     "text": [
      "422400\n",
      "  epoch    train_loss    valid_acc    valid_loss     dur\n",
      "-------  ------------  -----------  ------------  ------\n",
      "      1        \u001b[36m0.5681\u001b[0m       \u001b[32m0.8060\u001b[0m        \u001b[35m0.5533\u001b[0m  0.1845\n",
      "      2        0.7198       0.8060        \u001b[35m0.5147\u001b[0m  0.2056\n",
      "      3        0.6510       0.8060        \u001b[35m0.5007\u001b[0m  0.1954\n",
      "      4        0.6235       0.8060        \u001b[35m0.4885\u001b[0m  0.2075\n",
      "      5        0.6014       0.8060        \u001b[35m0.4808\u001b[0m  0.1935\n",
      "      6        0.5734       0.8060        \u001b[35m0.4757\u001b[0m  0.1870\n",
      "      7        \u001b[36m0.5584\u001b[0m       0.8060        \u001b[35m0.4712\u001b[0m  0.2024\n",
      "      8        0.5629       0.8060        \u001b[35m0.4658\u001b[0m  0.1882\n",
      "      9        \u001b[36m0.5391\u001b[0m       0.8060        \u001b[35m0.4607\u001b[0m  0.1922\n",
      "     10        0.5439       0.8060        \u001b[35m0.4588\u001b[0m  0.2016\n",
      "     11        \u001b[36m0.5358\u001b[0m       0.8060        \u001b[35m0.4552\u001b[0m  0.2067\n",
      "     12        \u001b[36m0.5271\u001b[0m       0.8060        \u001b[35m0.4533\u001b[0m  0.1967\n",
      "     13        \u001b[36m0.5129\u001b[0m       0.8060        \u001b[35m0.4493\u001b[0m  0.2009\n",
      "     14        \u001b[36m0.5082\u001b[0m       0.8060        \u001b[35m0.4459\u001b[0m  0.1985\n",
      "     15        \u001b[36m0.5062\u001b[0m       0.8060        \u001b[35m0.4430\u001b[0m  0.2115\n",
      "     16        \u001b[36m0.4991\u001b[0m       0.8060        \u001b[35m0.4389\u001b[0m  0.1889\n",
      "     17        \u001b[36m0.4859\u001b[0m       0.8060        \u001b[35m0.4342\u001b[0m  0.1994\n",
      "     18        \u001b[36m0.4843\u001b[0m       0.8060        \u001b[35m0.4313\u001b[0m  0.1863\n",
      "     19        \u001b[36m0.4746\u001b[0m       0.8060        \u001b[35m0.4280\u001b[0m  0.1939\n",
      "     20        \u001b[36m0.4741\u001b[0m       0.8060        \u001b[35m0.4252\u001b[0m  0.1964\n",
      "     21        \u001b[36m0.4502\u001b[0m       0.8060        \u001b[35m0.4200\u001b[0m  0.2062\n",
      "     22        0.4591       0.8060        \u001b[35m0.4145\u001b[0m  0.2201\n",
      "     23        0.4574       0.8060        \u001b[35m0.4108\u001b[0m  0.1797\n",
      "     24        \u001b[36m0.4318\u001b[0m       0.8060        \u001b[35m0.4070\u001b[0m  0.1960\n",
      "     25        \u001b[36m0.4232\u001b[0m       0.8060        \u001b[35m0.4048\u001b[0m  0.2017\n",
      "     26        0.4418       0.8060        \u001b[35m0.4005\u001b[0m  0.1949\n",
      "     27        \u001b[36m0.4130\u001b[0m       0.8060        \u001b[35m0.3937\u001b[0m  0.1973\n",
      "     28        \u001b[36m0.4126\u001b[0m       0.8060        \u001b[35m0.3884\u001b[0m  0.2045\n",
      "     29        \u001b[36m0.3946\u001b[0m       0.8060        \u001b[35m0.3810\u001b[0m  0.2119\n",
      "     30        \u001b[36m0.3854\u001b[0m       0.8060        \u001b[35m0.3781\u001b[0m  0.2379\n",
      "     31        \u001b[36m0.3524\u001b[0m       0.8060        \u001b[35m0.3685\u001b[0m  0.2121\n",
      "     32        0.3691       0.8060        0.3721  0.2093\n",
      "     33        \u001b[36m0.3461\u001b[0m       0.8060        \u001b[35m0.3592\u001b[0m  0.1882\n",
      "     34        \u001b[36m0.3344\u001b[0m       0.8060        0.3610  0.1961\n",
      "     35        \u001b[36m0.3315\u001b[0m       \u001b[32m0.8209\u001b[0m        \u001b[35m0.3517\u001b[0m  0.2136\n",
      "     36        \u001b[36m0.2885\u001b[0m       0.8209        \u001b[35m0.3435\u001b[0m  0.1896\n",
      "     37        \u001b[36m0.2689\u001b[0m       0.8209        \u001b[35m0.3382\u001b[0m  0.1829\n",
      "     38        \u001b[36m0.2510\u001b[0m       0.8209        \u001b[35m0.3255\u001b[0m  0.2195\n",
      "     39        \u001b[36m0.2161\u001b[0m       0.8209        0.3259  0.1890\n",
      "     40        \u001b[36m0.1968\u001b[0m       0.8209        \u001b[35m0.2943\u001b[0m  0.1906\n",
      "     41        \u001b[36m0.1904\u001b[0m       0.8209        0.3212  0.1945\n",
      "     42        0.1908       \u001b[32m0.8358\u001b[0m        \u001b[35m0.2858\u001b[0m  0.1915\n",
      "     43        \u001b[36m0.1458\u001b[0m       0.8358        \u001b[35m0.2724\u001b[0m  0.1930\n",
      "     44        \u001b[36m0.1125\u001b[0m       \u001b[32m0.9104\u001b[0m        \u001b[35m0.2540\u001b[0m  0.2051\n",
      "     45        \u001b[36m0.0927\u001b[0m       0.8507        0.2733  0.2148\n",
      "     46        0.1038       0.9104        \u001b[35m0.2486\u001b[0m  0.2044\n",
      "     47        0.1076       0.9104        \u001b[35m0.2447\u001b[0m  0.2042\n",
      "     48        \u001b[36m0.0787\u001b[0m       0.9104        0.2461  0.1998\n",
      "     49        \u001b[36m0.0695\u001b[0m       0.9104        \u001b[35m0.2395\u001b[0m  0.2000\n",
      "     50        0.0715       0.9104        0.2479  0.2054\n",
      "     51        \u001b[36m0.0624\u001b[0m       0.9104        0.2433  0.1905\n",
      "     52        0.0640       0.9104        0.2496  0.1967\n",
      "     53        \u001b[36m0.0490\u001b[0m       0.9104        0.2488  0.1883\n",
      "Stopping since valid_loss has not improved in the last 5 epochs.\n"
     ]
    },
    {
     "data": {
      "text/plain": [
       "<class 'skorch.classifier.NeuralNetClassifier'>[initialized](\n",
       "  module_=Classifier(\n",
       "    (word_embeddings): Embedding(100001, 300)\n",
       "    (lstm): GRU(300, 100, num_layers=2, batch_first=True, dropout=0.2, bidirectional=True)\n",
       "    (softmax): Linear(in_features=400, out_features=2, bias=True)\n",
       "    (dropout): Dropout2d(p=0.1)\n",
       "  ),\n",
       ")"
      ]
     },
     "execution_count": 1086,
     "metadata": {},
     "output_type": "execute_result"
    }
   ],
   "source": [
    "net.fit(training_x, training_y)"
   ]
  },
  {
   "cell_type": "code",
   "execution_count": 1087,
   "metadata": {},
   "outputs": [
    {
     "name": "stdout",
     "output_type": "stream",
     "text": [
      "validation\n"
     ]
    },
    {
     "data": {
      "text/plain": [
       "(0.5384615384615384, 1.0, 0.7000000000000001)"
      ]
     },
     "execution_count": 1087,
     "metadata": {},
     "output_type": "execute_result"
    }
   ],
   "source": [
    "print('validation')\n",
    "prf1(net.predict(validation_x), validation_y)"
   ]
  },
  {
   "cell_type": "code",
   "execution_count": 1088,
   "metadata": {},
   "outputs": [
    {
     "name": "stdout",
     "output_type": "stream",
     "text": [
      "training\n"
     ]
    },
    {
     "data": {
      "text/plain": [
       "(1.0, 1.0, 1.0)"
      ]
     },
     "execution_count": 1088,
     "metadata": {},
     "output_type": "execute_result"
    }
   ],
   "source": [
    "print('training')\n",
    "prf1(net.predict(training_x), training_y)"
   ]
  },
  {
   "cell_type": "code",
   "execution_count": 1089,
   "metadata": {},
   "outputs": [
    {
     "data": {
      "text/plain": [
       "array([0, 0, 0, 1, 1, 1, 1, 1])"
      ]
     },
     "execution_count": 1089,
     "metadata": {},
     "output_type": "execute_result"
    }
   ],
   "source": [
    "net.predict(torch.LongTensor(np.vstack([\n",
    "    vectorize('she was not professional'),\n",
    "    vectorize('she was not very professional'),\n",
    "    vectorize('he was not very professional'),\n",
    "    vectorize('he was very rude'),\n",
    "    vectorize('she was very rude'),\n",
    "    vectorize('he was very unprofessional'),\n",
    "    vectorize('they were very condescending'),\n",
    "    vectorize('she was very condescending'),\n",
    "])))"
   ]
  },
  {
   "cell_type": "code",
   "execution_count": 1097,
   "metadata": {},
   "outputs": [
    {
     "name": "stdout",
     "output_type": "stream",
     "text": [
      "CPU times: user 13.3 s, sys: 128 ms, total: 13.4 s\n",
      "Wall time: 3.35 s\n"
     ]
    }
   ],
   "source": [
    "%%time\n",
    "_ = net.predict(torch.cat([validation_x] * 100))\n"
   ]
  },
  {
   "cell_type": "code",
   "execution_count": 1098,
   "metadata": {},
   "outputs": [
    {
     "name": "stdout",
     "output_type": "stream",
     "text": [
      "torch.Size([6700, 20])\n"
     ]
    }
   ],
   "source": [
    "print(torch.cat([validation_x] * 100).shape)"
   ]
  },
  {
   "cell_type": "code",
   "execution_count": 1083,
   "metadata": {},
   "outputs": [
    {
     "name": "stdout",
     "output_type": "stream",
     "text": [
      "gpu tokens processed per second: 223333.33333333334\n"
     ]
    }
   ],
   "source": [
    "print('gpu tokens processed per second:', 6700 * MSG_LEN / 0.6)"
   ]
  },
  {
   "cell_type": "code",
   "execution_count": 1099,
   "metadata": {},
   "outputs": [
    {
     "name": "stdout",
     "output_type": "stream",
     "text": [
      "cpu tokens processed per second: 10000.0\n"
     ]
    }
   ],
   "source": [
    "print('cpu tokens processed per second:', 6700 * MSG_LEN / 4 / 3.35)"
   ]
  },
  {
   "cell_type": "code",
   "execution_count": null,
   "metadata": {},
   "outputs": [],
   "source": []
  }
 ],
 "metadata": {
  "kernelspec": {
   "display_name": "Python 3",
   "language": "python",
   "name": "python3"
  },
  "language_info": {
   "codemirror_mode": {
    "name": "ipython",
    "version": 3
   },
   "file_extension": ".py",
   "mimetype": "text/x-python",
   "name": "python",
   "nbconvert_exporter": "python",
   "pygments_lexer": "ipython3",
   "version": "3.6.5"
  }
 },
 "nbformat": 4,
 "nbformat_minor": 2
}
